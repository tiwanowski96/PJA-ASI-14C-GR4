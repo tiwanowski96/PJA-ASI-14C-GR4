{
 "cells": [
  {
   "cell_type": "markdown",
   "metadata": {},
   "source": [
    "<h2>Crab age prediction model</h2>\n",
    "\n",
    "<p>The model here created will be able to predict crab age based on given biometrics and sex. Model will take as input features listed below:</p>\n",
    "\n",
    "<ul>\n",
    "    <li>Sex -> String; Values=['I','M','F']</li>\n",
    "    <li>Length -> float</li>\n",
    "    <li>Diameter -> float</li>\n",
    "    <li>Height -> float</li>\n",
    "    <li>Weight -> float</li>\n",
    "    <li>Shucked Weight -> float</li>\n",
    "    <li>Viscera Weight -> float</li>\n",
    "    <li>Shell Weight -> float</li>\n",
    "</ul>\n",
    "\n",
    "<p>The target will be Age value that type is int.</p>\n",
    "\n",
    "<p>For data cleaning look up file data_analysis.ipynb</p>\n",
    "\n",
    "<p>For model evaluation look up file model_eval.ipynb</p>"
   ]
  },
  {
   "cell_type": "markdown",
   "metadata": {},
   "source": [
    "<h3>-- Imports</h3>"
   ]
  },
  {
   "cell_type": "code",
   "execution_count": 1,
   "metadata": {},
   "outputs": [],
   "source": [
    "import import_data_module\n",
    "import data_cleaner_module\n",
    "import data_preparation_module\n",
    "import model_creator_module\n",
    "import model_metrics_module"
   ]
  },
  {
   "cell_type": "markdown",
   "metadata": {},
   "source": [
    "<h3>-- Data import</h3>"
   ]
  },
  {
   "cell_type": "code",
   "execution_count": 3,
   "metadata": {},
   "outputs": [],
   "source": [
    "crab_data = import_data_module.import_dataframe_from_csv(path=\"../model_data/CrabAgePrediction.csv\")"
   ]
  },
  {
   "cell_type": "markdown",
   "metadata": {},
   "source": [
    "<h3>-- Data clean</h3>"
   ]
  },
  {
   "cell_type": "code",
   "execution_count": 5,
   "metadata": {},
   "outputs": [],
   "source": [
    "clean_crab_data = data_cleaner_module.clean_Data(crab_data)"
   ]
  },
  {
   "cell_type": "markdown",
   "metadata": {},
   "source": [
    "<h3>-- Data preparation</h3>"
   ]
  },
  {
   "cell_type": "markdown",
   "metadata": {},
   "source": [
    "<small>---- Data enrichment</small>"
   ]
  },
  {
   "cell_type": "code",
   "execution_count": 9,
   "metadata": {},
   "outputs": [
    {
     "data": {
      "text/html": [
       "<div>\n",
       "<style scoped>\n",
       "    .dataframe tbody tr th:only-of-type {\n",
       "        vertical-align: middle;\n",
       "    }\n",
       "\n",
       "    .dataframe tbody tr th {\n",
       "        vertical-align: top;\n",
       "    }\n",
       "\n",
       "    .dataframe thead th {\n",
       "        text-align: right;\n",
       "    }\n",
       "</style>\n",
       "<table border=\"1\" class=\"dataframe\">\n",
       "  <thead>\n",
       "    <tr style=\"text-align: right;\">\n",
       "      <th></th>\n",
       "      <th>Sex</th>\n",
       "      <th>Length</th>\n",
       "      <th>Diameter</th>\n",
       "      <th>Height</th>\n",
       "      <th>Weight</th>\n",
       "      <th>Shucked Weight</th>\n",
       "      <th>Viscera Weight</th>\n",
       "      <th>Shell Weight</th>\n",
       "      <th>Volume</th>\n",
       "      <th>Weight proportion</th>\n",
       "      <th>Shucked proportion</th>\n",
       "      <th>Viscera proportion</th>\n",
       "      <th>Shell proportion</th>\n",
       "      <th>Shell area</th>\n",
       "      <th>Age</th>\n",
       "    </tr>\n",
       "  </thead>\n",
       "  <tbody>\n",
       "    <tr>\n",
       "      <th>0</th>\n",
       "      <td>0.0</td>\n",
       "      <td>0.424946</td>\n",
       "      <td>0.626535</td>\n",
       "      <td>0.674110</td>\n",
       "      <td>0.085245</td>\n",
       "      <td>0.350611</td>\n",
       "      <td>0.152468</td>\n",
       "      <td>-0.004581</td>\n",
       "      <td>0.482578</td>\n",
       "      <td>0.462847</td>\n",
       "      <td>0.631621</td>\n",
       "      <td>0.231512</td>\n",
       "      <td>-0.370156</td>\n",
       "      <td>0.590366</td>\n",
       "      <td>9.0</td>\n",
       "    </tr>\n",
       "    <tr>\n",
       "      <th>1</th>\n",
       "      <td>2.0</td>\n",
       "      <td>-1.410268</td>\n",
       "      <td>-1.494199</td>\n",
       "      <td>-1.417854</td>\n",
       "      <td>-1.315399</td>\n",
       "      <td>-1.269731</td>\n",
       "      <td>-1.217374</td>\n",
       "      <td>-1.340170</td>\n",
       "      <td>-1.295575</td>\n",
       "      <td>0.185294</td>\n",
       "      <td>-0.063455</td>\n",
       "      <td>1.040149</td>\n",
       "      <td>-0.121012</td>\n",
       "      <td>-1.435945</td>\n",
       "      <td>6.0</td>\n",
       "    </tr>\n",
       "    <tr>\n",
       "      <th>2</th>\n",
       "      <td>1.0</td>\n",
       "      <td>-0.909755</td>\n",
       "      <td>-0.989262</td>\n",
       "      <td>-1.025611</td>\n",
       "      <td>-1.129610</td>\n",
       "      <td>-1.118682</td>\n",
       "      <td>-1.143578</td>\n",
       "      <td>-1.029992</td>\n",
       "      <td>-1.052678</td>\n",
       "      <td>0.074201</td>\n",
       "      <td>-0.236625</td>\n",
       "      <td>-0.501047</td>\n",
       "      <td>0.867774</td>\n",
       "      <td>-1.059233</td>\n",
       "      <td>6.0</td>\n",
       "    </tr>\n",
       "    <tr>\n",
       "      <th>3</th>\n",
       "      <td>0.0</td>\n",
       "      <td>-0.450951</td>\n",
       "      <td>-0.534819</td>\n",
       "      <td>-1.025611</td>\n",
       "      <td>-0.727067</td>\n",
       "      <td>-0.873800</td>\n",
       "      <td>-0.922189</td>\n",
       "      <td>-0.391391</td>\n",
       "      <td>-0.867825</td>\n",
       "      <td>-0.306814</td>\n",
       "      <td>-0.736008</td>\n",
       "      <td>-1.432438</td>\n",
       "      <td>1.564203</td>\n",
       "      <td>-0.663686</td>\n",
       "      <td>10.0</td>\n",
       "    </tr>\n",
       "    <tr>\n",
       "      <th>4</th>\n",
       "      <td>1.0</td>\n",
       "      <td>-1.410268</td>\n",
       "      <td>-1.443705</td>\n",
       "      <td>-1.417854</td>\n",
       "      <td>-1.205990</td>\n",
       "      <td>-1.082064</td>\n",
       "      <td>-1.180476</td>\n",
       "      <td>-1.303678</td>\n",
       "      <td>-1.288274</td>\n",
       "      <td>0.138833</td>\n",
       "      <td>0.635782</td>\n",
       "      <td>-0.090008</td>\n",
       "      <td>-0.831494</td>\n",
       "      <td>-1.401248</td>\n",
       "      <td>6.0</td>\n",
       "    </tr>\n",
       "  </tbody>\n",
       "</table>\n",
       "</div>"
      ],
      "text/plain": [
       "   Sex    Length  Diameter    Height    Weight  Shucked Weight  \\\n",
       "0  0.0  0.424946  0.626535  0.674110  0.085245        0.350611   \n",
       "1  2.0 -1.410268 -1.494199 -1.417854 -1.315399       -1.269731   \n",
       "2  1.0 -0.909755 -0.989262 -1.025611 -1.129610       -1.118682   \n",
       "3  0.0 -0.450951 -0.534819 -1.025611 -0.727067       -0.873800   \n",
       "4  1.0 -1.410268 -1.443705 -1.417854 -1.205990       -1.082064   \n",
       "\n",
       "   Viscera Weight  Shell Weight    Volume  Weight proportion  \\\n",
       "0        0.152468     -0.004581  0.482578           0.462847   \n",
       "1       -1.217374     -1.340170 -1.295575           0.185294   \n",
       "2       -1.143578     -1.029992 -1.052678           0.074201   \n",
       "3       -0.922189     -0.391391 -0.867825          -0.306814   \n",
       "4       -1.180476     -1.303678 -1.288274           0.138833   \n",
       "\n",
       "   Shucked proportion  Viscera proportion  Shell proportion  Shell area   Age  \n",
       "0            0.631621            0.231512         -0.370156    0.590366   9.0  \n",
       "1           -0.063455            1.040149         -0.121012   -1.435945   6.0  \n",
       "2           -0.236625           -0.501047          0.867774   -1.059233   6.0  \n",
       "3           -0.736008           -1.432438          1.564203   -0.663686  10.0  \n",
       "4            0.635782           -0.090008         -0.831494   -1.401248   6.0  "
      ]
     },
     "execution_count": 9,
     "metadata": {},
     "output_type": "execute_result"
    }
   ],
   "source": [
    "enriched_data = data_preparation_module.enrich_rf_features(clean_crab_data)"
   ]
  },
  {
   "cell_type": "markdown",
   "metadata": {},
   "source": [
    "<small>---- Data standarization and encoding</small>"
   ]
  },
  {
   "cell_type": "code",
   "execution_count": 7,
   "metadata": {},
   "outputs": [],
   "source": [
    "prepared_data = data_preparation_module.prepare_cleaned_data(enriched_data)"
   ]
  }
 ],
 "metadata": {
  "kernelspec": {
   "display_name": "data_clean_ASI",
   "language": "python",
   "name": "python3"
  },
  "language_info": {
   "codemirror_mode": {
    "name": "ipython",
    "version": 3
   },
   "file_extension": ".py",
   "mimetype": "text/x-python",
   "name": "python",
   "nbconvert_exporter": "python",
   "pygments_lexer": "ipython3",
   "version": "3.9.19"
  }
 },
 "nbformat": 4,
 "nbformat_minor": 2
}
