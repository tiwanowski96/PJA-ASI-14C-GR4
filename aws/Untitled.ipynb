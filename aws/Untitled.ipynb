{
 "cells": [
  {
   "cell_type": "code",
   "execution_count": 30,
   "id": "eb9c87e3",
   "metadata": {},
   "outputs": [],
   "source": [
    "import boto3\n",
    "import pandas as pd\n",
    "\n",
    "bucket_name = '905418408481-pja-asi-14c-gr4'\n",
    "\n",
    "s3_client = boto3.client('s3')\n",
    "s3_client.download_file(bucket_name, 'CrabAgePrediction.csv', 'CrabAgePrediction.csv')\n",
    "\n",
    "data = pd.read_csv('CrabAgePrediction.csv')"
   ]
  },
  {
   "cell_type": "code",
   "execution_count": 31,
   "id": "cdc2c8b2",
   "metadata": {},
   "outputs": [
    {
     "name": "stdout",
     "output_type": "stream",
     "text": [
      "<class 'pandas.core.frame.DataFrame'>\n",
      "RangeIndex: 3893 entries, 0 to 3892\n",
      "Data columns (total 9 columns):\n",
      " #   Column          Non-Null Count  Dtype  \n",
      "---  ------          --------------  -----  \n",
      " 0   Sex             3893 non-null   object \n",
      " 1   Length          3893 non-null   float64\n",
      " 2   Diameter        3893 non-null   float64\n",
      " 3   Height          3893 non-null   float64\n",
      " 4   Weight          3893 non-null   float64\n",
      " 5   Shucked Weight  3893 non-null   float64\n",
      " 6   Viscera Weight  3893 non-null   float64\n",
      " 7   Shell Weight    3893 non-null   float64\n",
      " 8   Age             3893 non-null   int64  \n",
      "dtypes: float64(7), int64(1), object(1)\n",
      "memory usage: 273.9+ KB\n",
      "None\n",
      "            Length     Diameter       Height       Weight  Shucked Weight  \\\n",
      "count  3893.000000  3893.000000  3893.000000  3893.000000     3893.000000   \n",
      "mean      1.311306     1.020893     0.349374    23.567275       10.207342   \n",
      "std       0.300431     0.248233     0.104976    13.891201        6.275275   \n",
      "min       0.187500     0.137500     0.000000     0.056699        0.028349   \n",
      "25%       1.125000     0.875000     0.287500    12.672227        5.343881   \n",
      "50%       1.362500     1.062500     0.362500    22.792998        9.539607   \n",
      "75%       1.537500     1.200000     0.412500    32.786197       14.273973   \n",
      "max       2.037500     1.625000     2.825000    80.101512       42.184056   \n",
      "\n",
      "       Viscera Weight  Shell Weight          Age  \n",
      "count     3893.000000   3893.000000  3893.000000  \n",
      "mean         5.136546      6.795844     9.954791  \n",
      "std          3.104133      3.943392     3.220967  \n",
      "min          0.014175      0.042524     1.000000  \n",
      "25%          2.664853      3.713785     8.000000  \n",
      "50%          4.861939      6.662133    10.000000  \n",
      "75%          7.200773      9.355335    11.000000  \n",
      "max         21.545620     28.491248    29.000000  \n",
      "Sex               0\n",
      "Length            0\n",
      "Diameter          0\n",
      "Height            0\n",
      "Weight            0\n",
      "Shucked Weight    0\n",
      "Viscera Weight    0\n",
      "Shell Weight      0\n",
      "Age               0\n",
      "dtype: int64\n"
     ]
    }
   ],
   "source": [
    "print(data.info())\n",
    "print(data.describe())\n",
    "print(data.isnull().sum())"
   ]
  },
  {
   "cell_type": "code",
   "execution_count": 32,
   "id": "ed6c0e35",
   "metadata": {},
   "outputs": [],
   "source": [
    "data['Sex'] = data['Sex'].map({'M': 0, 'F': 1, 'I': 2})"
   ]
  },
  {
   "cell_type": "code",
   "execution_count": 33,
   "id": "af9d6f18",
   "metadata": {},
   "outputs": [],
   "source": [
    "from sklearn.model_selection import train_test_split\n",
    "\n",
    "X = data.drop('Age', axis=1)\n",
    "y = data['Age']\n",
    "\n",
    "X_train, X_test, y_train, y_test = train_test_split(X, y, test_size=0.35, random_state=0)"
   ]
  },
  {
   "cell_type": "code",
   "execution_count": 34,
   "id": "b6a8cfb9",
   "metadata": {},
   "outputs": [],
   "source": [
    "train_data = pd.concat([y_train.reset_index(drop=True), X_train.reset_index(drop=True)], axis=1)\n",
    "test_data = pd.concat([y_test.reset_index(drop=True), X_test.reset_index(drop=True)], axis=1)\n",
    "\n",
    "train_data.to_csv('train_data.csv', index=False, header=False)\n",
    "test_data.to_csv('test_data.csv', index=False, header=False)"
   ]
  },
  {
   "cell_type": "code",
   "execution_count": 35,
   "id": "305fa2a8",
   "metadata": {},
   "outputs": [],
   "source": [
    "s3_client.upload_file('train_data.csv', bucket_name, 'train/train_data.csv')\n",
    "s3_client.upload_file('test_data.csv', bucket_name, 'test/test_data.csv')"
   ]
  },
  {
   "cell_type": "code",
   "execution_count": 36,
   "id": "c48add6a",
   "metadata": {},
   "outputs": [
    {
     "name": "stderr",
     "output_type": "stream",
     "text": [
      "INFO:sagemaker.image_uris:Ignoring unnecessary instance type: None.\n"
     ]
    }
   ],
   "source": [
    "import sagemaker\n",
    "\n",
    "container = sagemaker.image_uris.retrieve(\n",
    "    framework='xgboost', \n",
    "    region=boto3.Session().region_name, \n",
    "    version='1.7-1'\n",
    ")"
   ]
  },
  {
   "cell_type": "code",
   "execution_count": 37,
   "id": "2774ad0b",
   "metadata": {},
   "outputs": [],
   "source": [
    "from sagemaker import get_execution_role\n",
    "from sagemaker.estimator import Estimator\n",
    "\n",
    "hyperparameters = {\n",
    "        \"max_depth\":\"5\",\n",
    "        \"eta\":\"0.2\",\n",
    "        \"gamma\":\"4\",\n",
    "        \"min_child_weight\":\"6\",\n",
    "        \"subsample\":\"0.7\",\n",
    "        \"objective\":\"reg:squarederror\",\n",
    "        \"num_round\":\"50\"\n",
    "}\n",
    "\n",
    "xgb_estimator = Estimator(\n",
    "    image_uri=container,\n",
    "    role=get_execution_role(),\n",
    "    instance_count=1,\n",
    "    instance_type='ml.m4.xlarge',\n",
    "    output_path=f's3://{bucket_name}/output',\n",
    "    hyperparameters=hyperparameters\n",
    ")"
   ]
  },
  {
   "cell_type": "code",
   "execution_count": 38,
   "id": "dcef4c6c",
   "metadata": {},
   "outputs": [],
   "source": [
    "from sagemaker.inputs import TrainingInput"
   ]
  },
  {
   "cell_type": "code",
   "execution_count": 39,
   "id": "77d6dced",
   "metadata": {},
   "outputs": [
    {
     "name": "stderr",
     "output_type": "stream",
     "text": [
      "INFO:sagemaker:Creating training-job with name: sagemaker-xgboost-2024-06-20-06-31-49-957\n"
     ]
    },
    {
     "name": "stdout",
     "output_type": "stream",
     "text": [
      "2024-06-20 06:31:50 Starting - Starting the training job...\n",
      "2024-06-20 06:32:09 Starting - Preparing the instances for training...\n",
      "2024-06-20 06:32:39 Downloading - Downloading input data...\n",
      "2024-06-20 06:33:14 Downloading - Downloading the training image......\n",
      "2024-06-20 06:34:04 Training - Training image download completed. Training in progress...\u001b[34m[2024-06-20 06:34:27.120 ip-10-0-113-40.eu-west-1.compute.internal:7 INFO utils.py:28] RULE_JOB_STOP_SIGNAL_FILENAME: None\u001b[0m\n",
      "\u001b[34m[2024-06-20 06:34:27.142 ip-10-0-113-40.eu-west-1.compute.internal:7 INFO profiler_config_parser.py:111] User has disabled profiler.\u001b[0m\n",
      "\u001b[34m[2024-06-20:06:34:27:INFO] Imported framework sagemaker_xgboost_container.training\u001b[0m\n",
      "\u001b[34m[2024-06-20:06:34:27:INFO] Failed to parse hyperparameter objective value reg:squarederror to Json.\u001b[0m\n",
      "\u001b[34mReturning the value itself\u001b[0m\n",
      "\u001b[34m[2024-06-20:06:34:27:INFO] No GPUs detected (normal if no gpus installed)\u001b[0m\n",
      "\u001b[34m[2024-06-20:06:34:27:INFO] Running XGBoost Sagemaker in algorithm mode\u001b[0m\n",
      "\u001b[34m[2024-06-20:06:34:27:INFO] Determined 0 GPU(s) available on the instance.\u001b[0m\n",
      "\u001b[34m[2024-06-20:06:34:27:INFO] Determined delimiter of CSV input is ','\u001b[0m\n",
      "\u001b[34m[2024-06-20:06:34:27:INFO] Determined delimiter of CSV input is ','\u001b[0m\n",
      "\u001b[34m[2024-06-20:06:34:27:INFO] File path /opt/ml/input/data/train of input files\u001b[0m\n",
      "\u001b[34m[2024-06-20:06:34:27:INFO] Making smlinks from folder /opt/ml/input/data/train to folder /tmp/sagemaker_xgboost_input_data\u001b[0m\n",
      "\u001b[34m[2024-06-20:06:34:27:INFO] creating symlink between Path /opt/ml/input/data/train/train_data.csv and destination /tmp/sagemaker_xgboost_input_data/train_data.csv-2160114473473545948\u001b[0m\n",
      "\u001b[34m[2024-06-20:06:34:27:INFO] files path: /tmp/sagemaker_xgboost_input_data\u001b[0m\n",
      "\u001b[34m[2024-06-20:06:34:27:INFO] Determined delimiter of CSV input is ','\u001b[0m\n",
      "\u001b[34m[2024-06-20:06:34:27:INFO] File path /opt/ml/input/data/validation of input files\u001b[0m\n",
      "\u001b[34m[2024-06-20:06:34:27:INFO] Making smlinks from folder /opt/ml/input/data/validation to folder /tmp/sagemaker_xgboost_input_data\u001b[0m\n",
      "\u001b[34m[2024-06-20:06:34:27:INFO] creating symlink between Path /opt/ml/input/data/validation/test_data.csv and destination /tmp/sagemaker_xgboost_input_data/test_data.csv-7456971214571399489\u001b[0m\n",
      "\u001b[34m[2024-06-20:06:34:27:INFO] files path: /tmp/sagemaker_xgboost_input_data\u001b[0m\n",
      "\u001b[34m[2024-06-20:06:34:27:INFO] Determined delimiter of CSV input is ','\u001b[0m\n",
      "\u001b[34m[2024-06-20:06:34:27:INFO] Single node training.\u001b[0m\n",
      "\u001b[34m[2024-06-20:06:34:27:INFO] Train matrix has 2530 rows and 8 columns\u001b[0m\n",
      "\u001b[34m[2024-06-20:06:34:27:INFO] Validation matrix has 1363 rows\u001b[0m\n",
      "\u001b[34m[2024-06-20 06:34:27.585 ip-10-0-113-40.eu-west-1.compute.internal:7 INFO json_config.py:92] Creating hook from json_config at /opt/ml/input/config/debughookconfig.json.\u001b[0m\n",
      "\u001b[34m[2024-06-20 06:34:27.586 ip-10-0-113-40.eu-west-1.compute.internal:7 INFO hook.py:206] tensorboard_dir has not been set for the hook. SMDebug will not be exporting tensorboard summaries.\u001b[0m\n",
      "\u001b[34m[2024-06-20 06:34:27.586 ip-10-0-113-40.eu-west-1.compute.internal:7 INFO hook.py:259] Saving to /opt/ml/output/tensors\u001b[0m\n",
      "\u001b[34m[2024-06-20 06:34:27.586 ip-10-0-113-40.eu-west-1.compute.internal:7 INFO state_store.py:77] The checkpoint config file /opt/ml/input/config/checkpointconfig.json does not exist.\u001b[0m\n",
      "\u001b[34m[2024-06-20:06:34:27:INFO] Debug hook created from config\u001b[0m\n",
      "\u001b[34m[2024-06-20 06:34:27.592 ip-10-0-113-40.eu-west-1.compute.internal:7 INFO hook.py:427] Monitoring the collections: metrics\u001b[0m\n",
      "\u001b[34m[2024-06-20 06:34:27.601 ip-10-0-113-40.eu-west-1.compute.internal:7 INFO hook.py:491] Hook is writing from the hook with pid: 7\u001b[0m\n",
      "\u001b[34m[0]#011train-rmse:8.11662#011validation-rmse:8.19492\u001b[0m\n",
      "\u001b[34m[1]#011train-rmse:6.63303#011validation-rmse:6.70544\u001b[0m\n",
      "\u001b[34m[2]#011train-rmse:5.45674#011validation-rmse:5.52911\u001b[0m\n",
      "\u001b[34m[3]#011train-rmse:4.55668#011validation-rmse:4.63525\u001b[0m\n",
      "\u001b[34m[4]#011train-rmse:3.86688#011validation-rmse:3.95991\u001b[0m\n",
      "\u001b[34m[5]#011train-rmse:3.33422#011validation-rmse:3.44260\u001b[0m\n",
      "\u001b[34m[6]#011train-rmse:2.93150#011validation-rmse:3.05026\u001b[0m\n",
      "\u001b[34m[7]#011train-rmse:2.64116#011validation-rmse:2.78217\u001b[0m\n",
      "\u001b[34m[8]#011train-rmse:2.42310#011validation-rmse:2.57890\u001b[0m\n",
      "\u001b[34m[9]#011train-rmse:2.27922#011validation-rmse:2.45236\u001b[0m\n",
      "\u001b[34m[10]#011train-rmse:2.15203#011validation-rmse:2.35169\u001b[0m\n",
      "\u001b[34m[11]#011train-rmse:2.06342#011validation-rmse:2.29284\u001b[0m\n",
      "\u001b[34m[12]#011train-rmse:2.00144#011validation-rmse:2.24822\u001b[0m\n",
      "\u001b[34m[13]#011train-rmse:1.95242#011validation-rmse:2.21613\u001b[0m\n",
      "\u001b[34m[14]#011train-rmse:1.91575#011validation-rmse:2.20173\u001b[0m\n",
      "\u001b[34m[15]#011train-rmse:1.88004#011validation-rmse:2.18828\u001b[0m\n",
      "\u001b[34m[16]#011train-rmse:1.85369#011validation-rmse:2.18434\u001b[0m\n",
      "\u001b[34m[17]#011train-rmse:1.84086#011validation-rmse:2.17560\u001b[0m\n",
      "\u001b[34m[18]#011train-rmse:1.81987#011validation-rmse:2.17216\u001b[0m\n",
      "\u001b[34m[19]#011train-rmse:1.81444#011validation-rmse:2.17269\u001b[0m\n",
      "\u001b[34m[20]#011train-rmse:1.80219#011validation-rmse:2.17288\u001b[0m\n",
      "\u001b[34m[21]#011train-rmse:1.78692#011validation-rmse:2.17301\u001b[0m\n",
      "\u001b[34m[22]#011train-rmse:1.78032#011validation-rmse:2.17086\u001b[0m\n",
      "\u001b[34m[23]#011train-rmse:1.77601#011validation-rmse:2.16989\u001b[0m\n",
      "\u001b[34m[24]#011train-rmse:1.75980#011validation-rmse:2.17564\u001b[0m\n",
      "\u001b[34m[25]#011train-rmse:1.75519#011validation-rmse:2.17672\u001b[0m\n",
      "\u001b[34m[26]#011train-rmse:1.74493#011validation-rmse:2.17534\u001b[0m\n",
      "\u001b[34m[27]#011train-rmse:1.73865#011validation-rmse:2.17327\u001b[0m\n",
      "\u001b[34m[28]#011train-rmse:1.72217#011validation-rmse:2.17652\u001b[0m\n",
      "\u001b[34m[29]#011train-rmse:1.71282#011validation-rmse:2.18009\u001b[0m\n",
      "\u001b[34m[30]#011train-rmse:1.70239#011validation-rmse:2.18578\u001b[0m\n",
      "\u001b[34m[31]#011train-rmse:1.67783#011validation-rmse:2.18667\u001b[0m\n",
      "\u001b[34m[32]#011train-rmse:1.67260#011validation-rmse:2.18708\u001b[0m\n",
      "\u001b[34m[33]#011train-rmse:1.66732#011validation-rmse:2.18369\u001b[0m\n",
      "\u001b[34m[34]#011train-rmse:1.66296#011validation-rmse:2.18599\u001b[0m\n",
      "\u001b[34m[35]#011train-rmse:1.64855#011validation-rmse:2.18763\u001b[0m\n",
      "\u001b[34m[36]#011train-rmse:1.62873#011validation-rmse:2.19219\u001b[0m\n",
      "\u001b[34m[37]#011train-rmse:1.62272#011validation-rmse:2.19191\u001b[0m\n",
      "\u001b[34m[38]#011train-rmse:1.61722#011validation-rmse:2.18871\u001b[0m\n",
      "\u001b[34m[39]#011train-rmse:1.60892#011validation-rmse:2.18628\u001b[0m\n",
      "\u001b[34m[40]#011train-rmse:1.60158#011validation-rmse:2.18739\u001b[0m\n",
      "\u001b[34m[41]#011train-rmse:1.59152#011validation-rmse:2.19187\u001b[0m\n",
      "\u001b[34m[42]#011train-rmse:1.57757#011validation-rmse:2.19363\u001b[0m\n",
      "\u001b[34m[43]#011train-rmse:1.57182#011validation-rmse:2.18870\u001b[0m\n",
      "\u001b[34m[44]#011train-rmse:1.56082#011validation-rmse:2.18801\u001b[0m\n",
      "\u001b[34m[45]#011train-rmse:1.55756#011validation-rmse:2.18277\u001b[0m\n",
      "\u001b[34m[46]#011train-rmse:1.55185#011validation-rmse:2.18271\u001b[0m\n",
      "\u001b[34m[47]#011train-rmse:1.54511#011validation-rmse:2.18273\u001b[0m\n",
      "\u001b[34m[48]#011train-rmse:1.53390#011validation-rmse:2.18441\u001b[0m\n",
      "\u001b[34m[49]#011train-rmse:1.52648#011validation-rmse:2.19050\u001b[0m\n",
      "\n",
      "2024-06-20 06:34:47 Uploading - Uploading generated training model\n",
      "2024-06-20 06:34:47 Completed - Training job completed\n",
      "Training seconds: 129\n",
      "Billable seconds: 129\n"
     ]
    }
   ],
   "source": [
    "train_input = TrainingInput(f's3://{bucket_name}/train/train_data.csv', content_type='csv')\n",
    "test_input = TrainingInput(f's3://{bucket_name}/test/test_data.csv', content_type='csv')\n",
    "\n",
    "xgb_estimator.fit({'train': train_input, 'validation': test_input})"
   ]
  },
  {
   "cell_type": "code",
   "execution_count": 40,
   "id": "0bbe81b4",
   "metadata": {},
   "outputs": [
    {
     "name": "stderr",
     "output_type": "stream",
     "text": [
      "INFO:sagemaker:Creating model with name: sagemaker-xgboost-2024-06-20-06-35-35-394\n",
      "INFO:sagemaker:Creating endpoint-config with name sagemaker-xgboost-2024-06-20-06-35-35-394\n",
      "INFO:sagemaker:Creating endpoint with name sagemaker-xgboost-2024-06-20-06-35-35-394\n"
     ]
    },
    {
     "name": "stdout",
     "output_type": "stream",
     "text": [
      "------!"
     ]
    }
   ],
   "source": [
    "predictor = xgb_estimator.deploy(\n",
    "    initial_instance_count=1,\n",
    "    instance_type='ml.m4.xlarge'\n",
    ")"
   ]
  },
  {
   "cell_type": "code",
   "execution_count": 42,
   "id": "3ea5d738",
   "metadata": {},
   "outputs": [
    {
     "name": "stdout",
     "output_type": "stream",
     "text": [
      "b'0,1.4375,1.175,0.4125,24.6357155,12.3320325,5.5848515,6.747181\\n1,1.6375,1.2875,0.5,42.354153,20.56756225,8.7599955,11.4815475\\n2,1.6375,1.2875,0.3625,35.436875,14.92601175,8.0229085,8.9300925\\n0,1.125,0.8375,0.35,13.11164375,4.649318,2.154562,4.252425\\n'\n",
      "9.297533988952637\n",
      "10.998446464538574\n",
      "12.54384994506836\n",
      "10.815958976745605\n",
      "\n"
     ]
    }
   ],
   "source": [
    "import numpy as np\n",
    "import pandas as pd\n",
    "import io\n",
    "import boto3\n",
    "\n",
    "sample_data = pd.DataFrame([\n",
    "    [0, 1.4375, 1.175, 0.4125, 24.6357155, 12.3320325, 5.5848515, 6.747181],\n",
    "    [1,1.6375,1.2875,0.5,42.354153,20.56756225,8.7599955,11.4815475],\n",
    "    [2,1.6375,1.2875,0.3625,35.436875,14.92601175,8.0229085,8.9300925],\n",
    "    [0,1.125,0.8375,0.35,13.11164375,4.649318,2.154562,4.252425]\n",
    "], columns=['Sex', 'Length', 'Diameter', 'Height', 'Weight', 'Shucked Weight', 'Viscera Weight', 'Shell Weight'])\n",
    "\n",
    "csv_buffer = io.StringIO()\n",
    "sample_data.to_csv(csv_buffer, index=False, header=False)\n",
    "\n",
    "payload = csv_buffer.getvalue().encode('utf-8')\n",
    "\n",
    "print(payload)\n",
    "\n",
    "runtime = boto3.client('sagemaker-runtime')\n",
    "\n",
    "response = runtime.invoke_endpoint(\n",
    "    EndpointName=predictor.endpoint_name,\n",
    "    ContentType='text/csv',\n",
    "    Body=payload\n",
    ")\n",
    "\n",
    "result = response['Body'].read().decode('utf-8')\n",
    "print(result)"
   ]
  },
  {
   "cell_type": "code",
   "execution_count": 43,
   "id": "cce4a774",
   "metadata": {},
   "outputs": [
    {
     "name": "stdout",
     "output_type": "stream",
     "text": [
      "               Age          Sex       Length     Diameter       Height  \\\n",
      "count  2530.000000  2530.000000  2530.000000  2530.000000  2530.000000   \n",
      "mean      9.922925     0.960474     1.308651     1.019111     0.348839   \n",
      "std       3.225048     0.824700     0.300837     0.248631     0.108452   \n",
      "min       2.000000     0.000000     0.275000     0.225000     0.037500   \n",
      "25%       8.000000     0.000000     1.125000     0.875000     0.287500   \n",
      "50%      10.000000     1.000000     1.362500     1.062500     0.350000   \n",
      "75%      11.000000     2.000000     1.537500     1.200000     0.412500   \n",
      "max      29.000000     2.000000     2.037500     1.625000     2.825000   \n",
      "\n",
      "            Weight  Shucked Weight  Viscera Weight  Shell Weight  \n",
      "count  2530.000000     2530.000000     2530.000000   2530.000000  \n",
      "mean     23.446941       10.161693        5.108877      6.752722  \n",
      "std      13.812752        6.251106        3.097543      3.895523  \n",
      "min       0.226796        0.070874        0.056699      0.085048  \n",
      "25%      12.661595        5.287182        2.668397      3.685435  \n",
      "50%      22.665425        9.482908        4.819415      6.662133  \n",
      "75%      32.630274       14.174750        7.154705      9.238393  \n",
      "max      78.797435       42.184056       21.545620     28.491248  \n",
      "              Age          Sex       Length     Diameter       Height  \\\n",
      "count  1363.00000  1363.000000  1363.000000  1363.000000  1363.000000   \n",
      "mean     10.01394     0.925165     1.316233     1.024202     0.350367   \n",
      "std       3.21372     0.829153     0.299724     0.247548     0.098230   \n",
      "min       1.00000     0.000000     0.187500     0.137500     0.000000   \n",
      "25%       8.00000     0.000000     1.137500     0.875000     0.287500   \n",
      "50%      10.00000     1.000000     1.362500     1.062500     0.362500   \n",
      "75%      11.00000     2.000000     1.550000     1.212500     0.412500   \n",
      "max      25.00000     2.000000     2.000000     1.575000     1.287500   \n",
      "\n",
      "            Weight  Shucked Weight  Viscera Weight  Shell Weight  \n",
      "count  1363.000000     1363.000000     1363.000000   1363.000000  \n",
      "mean     23.790638       10.292075        5.187907      6.875887  \n",
      "std      14.038014        6.321319        3.116817      4.030960  \n",
      "min       0.056699        0.028349        0.014175      0.042524  \n",
      "25%      12.728925        5.414755        2.671940      3.791746  \n",
      "50%      22.991445        9.709704        4.932813      6.662133  \n",
      "75%      33.105129       14.472420        7.257472      9.397859  \n",
      "max      80.101512       38.300174       16.726205     25.429502  \n"
     ]
    }
   ],
   "source": [
    "print(train_data.describe())\n",
    "print(test_data.describe())"
   ]
  },
  {
   "cell_type": "code",
   "execution_count": 44,
   "id": "7a3c32ed",
   "metadata": {},
   "outputs": [
    {
     "name": "stderr",
     "output_type": "stream",
     "text": [
      "INFO:sagemaker:Deleting endpoint configuration with name: sagemaker-xgboost-2024-06-20-06-35-35-394\n",
      "INFO:sagemaker:Deleting endpoint with name: sagemaker-xgboost-2024-06-20-06-35-35-394\n"
     ]
    }
   ],
   "source": [
    "predictor.delete_endpoint()"
   ]
  },
  {
   "cell_type": "code",
   "execution_count": null,
   "id": "e688079c",
   "metadata": {},
   "outputs": [],
   "source": []
  },
  {
   "cell_type": "code",
   "execution_count": null,
   "id": "319dc8ea",
   "metadata": {},
   "outputs": [],
   "source": []
  }
 ],
 "metadata": {
  "kernelspec": {
   "display_name": "conda_python3",
   "language": "python",
   "name": "conda_python3"
  },
  "language_info": {
   "codemirror_mode": {
    "name": "ipython",
    "version": 3
   },
   "file_extension": ".py",
   "mimetype": "text/x-python",
   "name": "python",
   "nbconvert_exporter": "python",
   "pygments_lexer": "ipython3",
   "version": "3.10.14"
  }
 },
 "nbformat": 4,
 "nbformat_minor": 5
}
